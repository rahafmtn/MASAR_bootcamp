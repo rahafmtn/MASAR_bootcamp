{
  "nbformat": 4,
  "nbformat_minor": 0,
  "metadata": {
    "colab": {
      "provenance": [],
      "authorship_tag": "ABX9TyP0yv2iInMRMi5WHdKeV4Eq",
      "include_colab_link": true
    },
    "kernelspec": {
      "name": "python3",
      "display_name": "Python 3"
    },
    "language_info": {
      "name": "python"
    }
  },
  "cells": [
    {
      "cell_type": "markdown",
      "metadata": {
        "id": "view-in-github",
        "colab_type": "text"
      },
      "source": [
        "<a href=\"https://colab.research.google.com/github/rahafmtn/MASAR_bootcamp/blob/main/1stcode_with_masar.ipynb\" target=\"_parent\"><img src=\"https://colab.research.google.com/assets/colab-badge.svg\" alt=\"Open In Colab\"/></a>"
      ]
    },
    {
      "cell_type": "code",
      "execution_count": 3,
      "metadata": {
        "colab": {
          "base_uri": "https://localhost:8080/"
        },
        "id": "1tJTuK2H9e1K",
        "outputId": "c04a8b3c-aa27-41e5-bf99-ba173aa32ddf"
      },
      "outputs": [
        {
          "output_type": "stream",
          "name": "stdout",
          "text": [
            "Hello everyone, my name isRAHAF my age is 22 my message i will learn python from even be data scientist\n"
          ]
        }
      ],
      "source": [
        "#معسكر مسار\n",
        "name = 'RAHAF'\n",
        "age_str='22'\n",
        "message =' i will learn python from even be data scientist'\n",
        "\n",
        "print('Hello everyone, my name is' + name, 'my age is 22', 'my message'+message)"
      ]
    }
  ]
}